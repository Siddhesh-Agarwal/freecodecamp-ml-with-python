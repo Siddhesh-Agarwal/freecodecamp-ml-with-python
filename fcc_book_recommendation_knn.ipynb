{
  "cells": [
    {
      "cell_type": "code",
      "execution_count": 1,
      "metadata": {
        "id": "Y1onB6kUvo4Z"
      },
      "outputs": [],
      "source": [
        "# import libraries (you may add additional imports but you may not have to)\n",
        "import numpy as np\n",
        "import pandas as pd\n",
        "from scipy.sparse import csr_matrix\n",
        "from sklearn.neighbors import NearestNeighbors\n",
        "import matplotlib.pyplot as plt"
      ]
    },
    {
      "cell_type": "code",
      "execution_count": 2,
      "metadata": {
        "id": "iAQGqqO_vo4d",
        "outputId": "79c8bc28-a99c-40a8-dfec-42cacf452106",
        "colab": {
          "base_uri": "https://localhost:8080/"
        }
      },
      "outputs": [
        {
          "output_type": "stream",
          "name": "stdout",
          "text": [
            "--2024-11-20 18:33:31--  https://cdn.freecodecamp.org/project-data/books/book-crossings.zip\n",
            "Resolving cdn.freecodecamp.org (cdn.freecodecamp.org)... 172.67.70.149, 104.26.2.33, 104.26.3.33, ...\n",
            "Connecting to cdn.freecodecamp.org (cdn.freecodecamp.org)|172.67.70.149|:443... connected.\n",
            "HTTP request sent, awaiting response... 200 OK\n",
            "Length: 26085508 (25M) [application/zip]\n",
            "Saving to: ‘book-crossings.zip.2’\n",
            "\n",
            "book-crossings.zip. 100%[===================>]  24.88M  66.8MB/s    in 0.4s    \n",
            "\n",
            "2024-11-20 18:33:31 (66.8 MB/s) - ‘book-crossings.zip.2’ saved [26085508/26085508]\n",
            "\n",
            "Archive:  book-crossings.zip\n",
            "replace BX-Book-Ratings.csv? [y]es, [n]o, [A]ll, [N]one, [r]ename: N\n"
          ]
        }
      ],
      "source": [
        "# get data files\n",
        "!wget https://cdn.freecodecamp.org/project-data/books/book-crossings.zip\n",
        "\n",
        "!unzip book-crossings.zip\n",
        "\n",
        "books_filename = 'BX-Books.csv'\n",
        "ratings_filename = 'BX-Book-Ratings.csv'"
      ]
    },
    {
      "cell_type": "code",
      "execution_count": 3,
      "metadata": {
        "id": "NClILWOiEd6Q"
      },
      "outputs": [],
      "source": [
        "# import csv data into dataframes\n",
        "df_books = pd.read_csv(\n",
        "    books_filename,\n",
        "    encoding = \"ISO-8859-1\",\n",
        "    sep=\";\",\n",
        "    header=0,\n",
        "    names=['isbn', 'title', 'author'],\n",
        "    usecols=['isbn', 'title', 'author'],\n",
        "    dtype={'isbn': 'str', 'title': 'str', 'author': 'str'},\n",
        ")\n",
        "\n",
        "df_ratings = pd.read_csv(\n",
        "    ratings_filename,\n",
        "    encoding = \"ISO-8859-1\",\n",
        "    sep=\";\",\n",
        "    header=0,\n",
        "    names=['user', 'isbn', 'rating'],\n",
        "    usecols=['user', 'isbn', 'rating'],\n",
        "    dtype={'user': 'int32', 'isbn': 'str', 'rating': 'int8'},\n",
        ")"
      ]
    },
    {
      "cell_type": "code",
      "source": [
        "df_books.info()"
      ],
      "metadata": {
        "id": "RQv7eJ62bKuV",
        "outputId": "c31a9dbd-e331-4cb1-d031-e4028eb1253f",
        "colab": {
          "base_uri": "https://localhost:8080/"
        }
      },
      "execution_count": 4,
      "outputs": [
        {
          "output_type": "stream",
          "name": "stdout",
          "text": [
            "<class 'pandas.core.frame.DataFrame'>\n",
            "RangeIndex: 271379 entries, 0 to 271378\n",
            "Data columns (total 3 columns):\n",
            " #   Column  Non-Null Count   Dtype \n",
            "---  ------  --------------   ----- \n",
            " 0   isbn    271379 non-null  object\n",
            " 1   title   271379 non-null  object\n",
            " 2   author  271377 non-null  object\n",
            "dtypes: object(3)\n",
            "memory usage: 6.2+ MB\n"
          ]
        }
      ]
    },
    {
      "cell_type": "code",
      "source": [
        "df_ratings.info()"
      ],
      "metadata": {
        "id": "ZG8hQymFbQRV",
        "outputId": "fd9466ce-3020-45e3-cb64-e4184b4caa96",
        "colab": {
          "base_uri": "https://localhost:8080/"
        }
      },
      "execution_count": 5,
      "outputs": [
        {
          "output_type": "stream",
          "name": "stdout",
          "text": [
            "<class 'pandas.core.frame.DataFrame'>\n",
            "RangeIndex: 1149780 entries, 0 to 1149779\n",
            "Data columns (total 3 columns):\n",
            " #   Column  Non-Null Count    Dtype \n",
            "---  ------  --------------    ----- \n",
            " 0   user    1149780 non-null  int32 \n",
            " 1   isbn    1149780 non-null  object\n",
            " 2   rating  1149780 non-null  int8  \n",
            "dtypes: int32(1), int8(1), object(1)\n",
            "memory usage: 14.3+ MB\n"
          ]
        }
      ]
    },
    {
      "cell_type": "code",
      "source": [
        "df = df_books.merge(df_ratings, on=\"isbn\", how=\"right\")"
      ],
      "metadata": {
        "id": "LH4GXv1aV54R"
      },
      "execution_count": 6,
      "outputs": []
    },
    {
      "cell_type": "code",
      "source": [
        "df.info()"
      ],
      "metadata": {
        "id": "WGRePNRrhoqP",
        "outputId": "aebb8753-0575-43f4-bccb-f59431ce9a4d",
        "colab": {
          "base_uri": "https://localhost:8080/"
        }
      },
      "execution_count": 7,
      "outputs": [
        {
          "output_type": "stream",
          "name": "stdout",
          "text": [
            "<class 'pandas.core.frame.DataFrame'>\n",
            "RangeIndex: 1149780 entries, 0 to 1149779\n",
            "Data columns (total 5 columns):\n",
            " #   Column  Non-Null Count    Dtype \n",
            "---  ------  --------------    ----- \n",
            " 0   isbn    1149780 non-null  object\n",
            " 1   title   1031175 non-null  object\n",
            " 2   author  1031173 non-null  object\n",
            " 3   user    1149780 non-null  int32 \n",
            " 4   rating  1149780 non-null  int8  \n",
            "dtypes: int32(1), int8(1), object(3)\n",
            "memory usage: 31.8+ MB\n"
          ]
        }
      ]
    },
    {
      "cell_type": "code",
      "execution_count": 8,
      "metadata": {
        "id": "xAcXjkCFCh0A"
      },
      "outputs": [],
      "source": [
        "user_unique = df[\"user\"].value_counts()\n",
        "user_unique = user_unique[user_unique >= 200].index\n",
        "isbn_unique = df[\"isbn\"].value_counts()\n",
        "isbn_unique = isbn_unique[isbn_unique >= 100].index"
      ]
    },
    {
      "cell_type": "code",
      "source": [
        "df_f = df.loc[(df[\"user\"].isin(user_unique.values)) & (df[\"isbn\"].isin(isbn_unique.values))]\n",
        "df_pivot = (\n",
        "    df_f.drop_duplicates([\"title\", \"user\"])\n",
        "        .pivot(index='title', columns='user', values='rating')\n",
        "        .fillna(0)\n",
        ")\n",
        "matrix = csr_matrix(df_pivot.values)"
      ],
      "metadata": {
        "id": "e7FaVVRiiKvz"
      },
      "execution_count": 9,
      "outputs": []
    },
    {
      "cell_type": "code",
      "execution_count": 12,
      "metadata": {
        "id": "f5ZUd-L1SQz7"
      },
      "outputs": [],
      "source": [
        "# function to return recommended books - this will be tested\n",
        "def get_recommends(book: str, num_of_preds: int = 5):\n",
        "    model = NearestNeighbors(n_neighbors=num_of_preds, metric=\"cosine\")\n",
        "    model.fit(matrix)\n",
        "    book_probs, book_index = model.kneighbors([df_pivot.loc[book]])\n",
        "    recom_str = df_pivot.iloc[np.flip(book_index[0])].index.to_list()\n",
        "    recom_dist = list(np.flip(book_probs[0]))\n",
        "    recommended_books = list(map(list, zip(recom_str, recom_dist)))\n",
        "    return [book, recommended_books]"
      ]
    },
    {
      "cell_type": "code",
      "execution_count": 13,
      "metadata": {
        "id": "jd2SLCh8oxMh",
        "outputId": "96eebf1a-6c18-4859-e7b6-fc25587155ab",
        "colab": {
          "base_uri": "https://localhost:8080/"
        }
      },
      "outputs": [
        {
          "output_type": "stream",
          "name": "stdout",
          "text": [
            "[\"Where the Heart Is (Oprah's Book Club (Paperback))\", [['The Weight of Water', 0.7708583572697412], ['The Surgeon', 0.7699410973804288], ['I Know This Much Is True', 0.7677075092617776], ['The Lovely Bones: A Novel', 0.7234864549790632], [\"Where the Heart Is (Oprah's Book Club (Paperback))\", 7.771561172376096e-16]]]\n",
            "You passed the challenge! 🎉🎉🎉🎉🎉\n"
          ]
        }
      ],
      "source": [
        "books = get_recommends(\"Where the Heart Is (Oprah's Book Club (Paperback))\")\n",
        "print(books)\n",
        "\n",
        "def test_book_recommendation():\n",
        "  test_pass = True\n",
        "  recommends = get_recommends(\"Where the Heart Is (Oprah's Book Club (Paperback))\")\n",
        "  if recommends[0] != \"Where the Heart Is (Oprah's Book Club (Paperback))\":\n",
        "    test_pass = False\n",
        "  recommended_books = [\"I'll Be Seeing You\", 'The Weight of Water', 'The Surgeon', 'I Know This Much Is True']\n",
        "  recommended_books_dist = [0.8, 0.77, 0.77, 0.77]\n",
        "  for i in range(2):\n",
        "    if recommends[1][i][0] not in recommended_books:\n",
        "      test_pass = False\n",
        "    if abs(recommends[1][i][1] - recommended_books_dist[i]) >= 0.05:\n",
        "      test_pass = False\n",
        "  if test_pass:\n",
        "    print(\"You passed the challenge! 🎉🎉🎉🎉🎉\")\n",
        "  else:\n",
        "    print(\"You haven't passed yet. Keep trying!\")\n",
        "\n",
        "test_book_recommendation()"
      ]
    }
  ],
  "metadata": {
    "colab": {
      "name": "fcc_book_recommendation_knn.ipynb",
      "provenance": []
    },
    "kernelspec": {
      "display_name": "Python 3",
      "language": "python",
      "name": "python3"
    },
    "language_info": {
      "codemirror_mode": {
        "name": "ipython",
        "version": 3
      },
      "file_extension": ".py",
      "mimetype": "text/x-python",
      "name": "python",
      "nbconvert_exporter": "python",
      "pygments_lexer": "ipython3",
      "version": "3.6.5"
    }
  },
  "nbformat": 4,
  "nbformat_minor": 0
}